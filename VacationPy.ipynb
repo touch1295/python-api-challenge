{
 "cells": [
  {
   "cell_type": "markdown",
   "metadata": {},
   "source": [
    "# VacationPy\n",
    "----\n",
    "\n",
    "#### Note\n",
    "* Keep an eye on your API usage. Use https://developers.google.com/maps/reporting/gmp-reporting as reference for how to monitor your usage and billing.\n",
    "\n",
    "* Instructions have been included for each segment. You do not have to follow them exactly, but they are included to help you think through the steps."
   ]
  },
  {
   "cell_type": "code",
   "execution_count": 19,
   "metadata": {},
   "outputs": [],
   "source": [
    "# Dependencies and Setup\n",
    "import matplotlib.pyplot as plt\n",
    "import pandas as pd\n",
    "import numpy as np\n",
    "import requests\n",
    "import gmaps\n",
    "import os\n",
    "from matplotlib import pyplot as plt\n",
    "\n",
    "# Import API key\n",
    "from api_keys import g_key\n",
    "gmaps.configure(api_key = g_key)\n",
    "#print(g_key)"
   ]
  },
  {
   "cell_type": "markdown",
   "metadata": {},
   "source": [
    "### Store Part I results into DataFrame\n",
    "* Load the csv exported in Part I to a DataFrame"
   ]
  },
  {
   "cell_type": "code",
   "execution_count": 20,
   "metadata": {},
   "outputs": [
    {
     "data": {
      "text/html": [
       "<div>\n",
       "<style scoped>\n",
       "    .dataframe tbody tr th:only-of-type {\n",
       "        vertical-align: middle;\n",
       "    }\n",
       "\n",
       "    .dataframe tbody tr th {\n",
       "        vertical-align: top;\n",
       "    }\n",
       "\n",
       "    .dataframe thead th {\n",
       "        text-align: right;\n",
       "    }\n",
       "</style>\n",
       "<table border=\"1\" class=\"dataframe\">\n",
       "  <thead>\n",
       "    <tr style=\"text-align: right;\">\n",
       "      <th></th>\n",
       "      <th>Unnamed: 0</th>\n",
       "      <th>City</th>\n",
       "      <th>Lat</th>\n",
       "      <th>Lng</th>\n",
       "      <th>Max Temp</th>\n",
       "      <th>Humidity</th>\n",
       "      <th>Cloudiness</th>\n",
       "      <th>Wind Speed</th>\n",
       "      <th>Country</th>\n",
       "      <th>Date</th>\n",
       "    </tr>\n",
       "  </thead>\n",
       "  <tbody>\n",
       "    <tr>\n",
       "      <th>0</th>\n",
       "      <td>0</td>\n",
       "      <td>Jalu</td>\n",
       "      <td>29.03</td>\n",
       "      <td>21.55</td>\n",
       "      <td>83.30</td>\n",
       "      <td>31</td>\n",
       "      <td>0</td>\n",
       "      <td>10.33</td>\n",
       "      <td>LY</td>\n",
       "      <td>1600221349</td>\n",
       "    </tr>\n",
       "    <tr>\n",
       "      <th>1</th>\n",
       "      <td>1</td>\n",
       "      <td>Santa Cruz de La Palma</td>\n",
       "      <td>28.68</td>\n",
       "      <td>-17.76</td>\n",
       "      <td>75.00</td>\n",
       "      <td>88</td>\n",
       "      <td>100</td>\n",
       "      <td>13.87</td>\n",
       "      <td>ES</td>\n",
       "      <td>1600221350</td>\n",
       "    </tr>\n",
       "    <tr>\n",
       "      <th>2</th>\n",
       "      <td>2</td>\n",
       "      <td>Roblin</td>\n",
       "      <td>51.23</td>\n",
       "      <td>-101.36</td>\n",
       "      <td>51.08</td>\n",
       "      <td>72</td>\n",
       "      <td>100</td>\n",
       "      <td>11.50</td>\n",
       "      <td>CA</td>\n",
       "      <td>1600221350</td>\n",
       "    </tr>\n",
       "    <tr>\n",
       "      <th>3</th>\n",
       "      <td>3</td>\n",
       "      <td>Khatanga</td>\n",
       "      <td>71.97</td>\n",
       "      <td>102.50</td>\n",
       "      <td>51.69</td>\n",
       "      <td>76</td>\n",
       "      <td>100</td>\n",
       "      <td>6.76</td>\n",
       "      <td>RU</td>\n",
       "      <td>1600221350</td>\n",
       "    </tr>\n",
       "    <tr>\n",
       "      <th>4</th>\n",
       "      <td>4</td>\n",
       "      <td>Saskylakh</td>\n",
       "      <td>71.92</td>\n",
       "      <td>114.08</td>\n",
       "      <td>51.10</td>\n",
       "      <td>67</td>\n",
       "      <td>100</td>\n",
       "      <td>5.41</td>\n",
       "      <td>RU</td>\n",
       "      <td>1600221350</td>\n",
       "    </tr>\n",
       "    <tr>\n",
       "      <th>5</th>\n",
       "      <td>5</td>\n",
       "      <td>City of San Pedro</td>\n",
       "      <td>14.35</td>\n",
       "      <td>121.02</td>\n",
       "      <td>84.20</td>\n",
       "      <td>79</td>\n",
       "      <td>75</td>\n",
       "      <td>5.82</td>\n",
       "      <td>PH</td>\n",
       "      <td>1600221350</td>\n",
       "    </tr>\n",
       "    <tr>\n",
       "      <th>6</th>\n",
       "      <td>6</td>\n",
       "      <td>Mahébourg</td>\n",
       "      <td>-20.41</td>\n",
       "      <td>57.70</td>\n",
       "      <td>68.00</td>\n",
       "      <td>64</td>\n",
       "      <td>75</td>\n",
       "      <td>9.17</td>\n",
       "      <td>MU</td>\n",
       "      <td>1600221350</td>\n",
       "    </tr>\n",
       "    <tr>\n",
       "      <th>7</th>\n",
       "      <td>7</td>\n",
       "      <td>Taoudenni</td>\n",
       "      <td>22.68</td>\n",
       "      <td>-3.98</td>\n",
       "      <td>98.69</td>\n",
       "      <td>14</td>\n",
       "      <td>0</td>\n",
       "      <td>16.71</td>\n",
       "      <td>ML</td>\n",
       "      <td>1600221350</td>\n",
       "    </tr>\n",
       "    <tr>\n",
       "      <th>8</th>\n",
       "      <td>8</td>\n",
       "      <td>Albany</td>\n",
       "      <td>42.60</td>\n",
       "      <td>-73.97</td>\n",
       "      <td>51.01</td>\n",
       "      <td>68</td>\n",
       "      <td>11</td>\n",
       "      <td>2.30</td>\n",
       "      <td>US</td>\n",
       "      <td>1600221261</td>\n",
       "    </tr>\n",
       "    <tr>\n",
       "      <th>9</th>\n",
       "      <td>9</td>\n",
       "      <td>Avarua</td>\n",
       "      <td>-21.21</td>\n",
       "      <td>-159.78</td>\n",
       "      <td>77.00</td>\n",
       "      <td>69</td>\n",
       "      <td>53</td>\n",
       "      <td>16.11</td>\n",
       "      <td>CK</td>\n",
       "      <td>1600221351</td>\n",
       "    </tr>\n",
       "  </tbody>\n",
       "</table>\n",
       "</div>"
      ],
      "text/plain": [
       "   Unnamed: 0                    City    Lat     Lng  Max Temp  Humidity  \\\n",
       "0           0                    Jalu  29.03   21.55     83.30        31   \n",
       "1           1  Santa Cruz de La Palma  28.68  -17.76     75.00        88   \n",
       "2           2                  Roblin  51.23 -101.36     51.08        72   \n",
       "3           3                Khatanga  71.97  102.50     51.69        76   \n",
       "4           4               Saskylakh  71.92  114.08     51.10        67   \n",
       "5           5       City of San Pedro  14.35  121.02     84.20        79   \n",
       "6           6               Mahébourg -20.41   57.70     68.00        64   \n",
       "7           7               Taoudenni  22.68   -3.98     98.69        14   \n",
       "8           8                  Albany  42.60  -73.97     51.01        68   \n",
       "9           9                  Avarua -21.21 -159.78     77.00        69   \n",
       "\n",
       "   Cloudiness  Wind Speed Country        Date  \n",
       "0           0       10.33      LY  1600221349  \n",
       "1         100       13.87      ES  1600221350  \n",
       "2         100       11.50      CA  1600221350  \n",
       "3         100        6.76      RU  1600221350  \n",
       "4         100        5.41      RU  1600221350  \n",
       "5          75        5.82      PH  1600221350  \n",
       "6          75        9.17      MU  1600221350  \n",
       "7           0       16.71      ML  1600221350  \n",
       "8          11        2.30      US  1600221261  \n",
       "9          53       16.11      CK  1600221351  "
      ]
     },
     "execution_count": 20,
     "metadata": {},
     "output_type": "execute_result"
    }
   ],
   "source": [
    "# File to Load:\n",
    "file_path ='../WeatherPy/output_data/cities.csv' # csv file created in part I of homework \n",
    "\n",
    "# Read csv cities file and store into data frame:\n",
    "city_csv = pd.read_csv(file_path)\n",
    "city_csv.head(10)\n",
    "\n"
   ]
  },
  {
   "cell_type": "markdown",
   "metadata": {},
   "source": [
    "### Humidity Heatmap\n",
    "* Configure gmaps.\n",
    "* Use the Lat and Lng as locations and Humidity as the weight.\n",
    "* Add Heatmap layer to map."
   ]
  },
  {
   "cell_type": "code",
   "execution_count": 21,
   "metadata": {},
   "outputs": [
    {
     "data": {
      "text/plain": [
       "100"
      ]
     },
     "execution_count": 21,
     "metadata": {},
     "output_type": "execute_result"
    }
   ],
   "source": [
    "# Determan maximum humidity level in the city data frame:\n",
    "maximum_humidity = city_csv['Humidity'].max()\n",
    "maximum_humidity"
   ]
  },
  {
   "cell_type": "code",
   "execution_count": 22,
   "metadata": {},
   "outputs": [],
   "source": [
    "# Store 'Lat' and 'Lng' into  locations: \n",
    "city_csv = city_csv.dropna() # drop NaN values\n",
    "locations = city_csv[['Lat', 'Lng']].astype(float)\n",
    "#print(locations)\n",
    "\n",
    "# Convert humidity level to float and store:\n",
    "humidity_rate = city_csv['Humidity'].astype(float)\n",
    "#humidity_rate"
   ]
  },
  {
   "cell_type": "code",
   "execution_count": 23,
   "metadata": {},
   "outputs": [
    {
     "data": {
      "application/vnd.jupyter.widget-view+json": {
       "model_id": "886dded50ea34656b513cf9331bb8332",
       "version_major": 2,
       "version_minor": 0
      },
      "text/plain": [
       "Figure(layout=FigureLayout(height='420px'))"
      ]
     },
     "metadata": {},
     "output_type": "display_data"
    },
    {
     "data": {
      "text/plain": [
       "<Figure size 432x288 with 0 Axes>"
      ]
     },
     "metadata": {},
     "output_type": "display_data"
    }
   ],
   "source": [
    "# Create a humidity heat map layer:\n",
    "fig = gmaps.figure()\n",
    "\n",
    "\n",
    "heat_layer = gmaps.heatmap_layer(locations, weights = humidity_rate, \n",
    "                                 dissipating = False, max_intensity = maximum_humidity,\n",
    "                                 point_radius = 1)\n",
    "\n",
    "\n",
    "# Adjust heat_layer setting to help with heatmap dissipating on zoom\n",
    "heat_layer.dissipating = False\n",
    "heat_layer.max_intensity = 100\n",
    "heat_layer.point_radius = 1\n",
    "\n",
    "fig.add_layer(heat_layer)\n",
    "\n",
    "plt.savefig('Images/humidity heat map layer.png')\n",
    "fig"
   ]
  },
  {
   "cell_type": "markdown",
   "metadata": {},
   "source": [
    "### Create new DataFrame fitting weather criteria\n",
    "* Narrow down the cities to fit weather conditions.\n",
    "* Drop any rows will null values."
   ]
  },
  {
   "cell_type": "code",
   "execution_count": 24,
   "metadata": {},
   "outputs": [
    {
     "data": {
      "text/plain": [
       "Unnamed: 0    11\n",
       "City          11\n",
       "Lat           11\n",
       "Lng           11\n",
       "Max Temp      11\n",
       "Humidity      11\n",
       "Cloudiness    11\n",
       "Wind Speed    11\n",
       "Country       11\n",
       "Date          11\n",
       "dtype: int64"
      ]
     },
     "execution_count": 24,
     "metadata": {},
     "output_type": "execute_result"
    }
   ],
   "source": [
    "# Create new data frame with requested weather conditions:\n",
    "city_csv_narrow = city_csv[(city_csv['Max Temp'] < 96) &\n",
    "                             (city_csv['Max Temp'] > 55) &\n",
    "                             (city_csv['Wind Speed'] < 10) &\n",
    "                             (city_csv['Cloudiness'] < 15) &\n",
    "                             (city_csv['Humidity'] < 30)]\n",
    "# drop any rows will null values\n",
    "city_csv_narrow = city_csv_narrow.dropna()\n",
    "\n",
    "#city_csv_narrow\n",
    "city_csv_narrow.count()\n"
   ]
  },
  {
   "cell_type": "code",
   "execution_count": 25,
   "metadata": {},
   "outputs": [
    {
     "name": "stdout",
     "output_type": "stream",
     "text": [
      "Search Begin\n",
      "-----------------------------\n",
      "Looking for Hotels near: 67 | Record 1 of Total 11\n",
      "No Hotel Near Location... Skipping...\n",
      "Looking for Hotels near: 109 | Record 2 of Total 11\n",
      "No Hotel Near Location... Skipping...\n",
      "Looking for Hotels near: 180 | Record 3 of Total 11\n",
      "No Hotel Near Location... Skipping...\n",
      "Looking for Hotels near: 203 | Record 4 of Total 11\n",
      "No Hotel Near Location... Skipping...\n",
      "Looking for Hotels near: 262 | Record 5 of Total 11\n",
      "No Hotel Near Location... Skipping...\n",
      "Looking for Hotels near: 353 | Record 6 of Total 11\n",
      "No Hotel Near Location... Skipping...\n",
      "Looking for Hotels near: 391 | Record 7 of Total 11\n",
      "No Hotel Near Location... Skipping...\n",
      "Looking for Hotels near: 397 | Record 8 of Total 11\n",
      "No Hotel Near Location... Skipping...\n",
      "Looking for Hotels near: 419 | Record 9 of Total 11\n",
      "No Hotel Near Location... Skipping...\n",
      "Looking for Hotels near: 421 | Record 10 of Total 11\n",
      "No Hotel Near Location... Skipping...\n",
      "Looking for Hotels near: 515 | Record 11 of Total 11\n",
      "No Hotel Near Location... Skipping...\n",
      "Complete\n"
     ]
    }
   ],
   "source": [
    "# Set up lists to hold response info:\n",
    "name=[]         # list for hotel name\n",
    "city=[]         # list for hotel city\n",
    "country=[]      # list for hotel country\n",
    "lat=[]          # list for hotel latitude\n",
    "lng=[]          # list for hotel longitude\n",
    "\n",
    "# Loop through the list of cities and perform a request for data on each and add to corresponding lists:\n",
    "\n",
    "count = 1 \n",
    "\n",
    "print('Search Begin')     \n",
    "print('-----------------------------')\n",
    "for i in range(len(city_csv_narrow)) : \n",
    "   \n",
    "    lati=str(city_csv_narrow.iloc[i, 2])    \n",
    "    lngi=str(city_csv_narrow.iloc[i, 3])\n",
    "    \n",
    "    target_coordinates=lati + ', ' + lngi  \n",
    "    target_search='Hotel'\n",
    "    target_radius=5000\n",
    "    target_type='lodging'\n",
    "\n",
    "    # Set up a parameters dictionary:\n",
    "    params={\n",
    "        'location': target_coordinates,\n",
    "        'keyword': target_search,\n",
    "        'radius': target_radius,\n",
    "        'type': target_type,\n",
    "        'key': g_key\n",
    "    }\n",
    "\n",
    "    # Base url:\n",
    "    base_url='https://maps.googleapis.com/maps/api/place/nearbysearch/json'\n",
    "\n",
    "    # Run a request using the above params dictionary:\n",
    "    response = requests.get(base_url, params = params)\n",
    "    #print(response.url)\n",
    "    \n",
    "    # Convert response to json:\n",
    "    places_data = response.json()\n",
    "    #print(json.dumps(places_data, indent=4, sort_keys=True))\n",
    "    \n",
    "    # Print user feedback: \n",
    "    print('Looking for Hotels near: ' + str(city_csv_narrow.iloc[i, 0]) + ' | Record ' + str(count) + ' of Total ' + str(len(city_csv_narrow)))\n",
    "     \n",
    "    # Add requested data to  result lists:\n",
    "    try:                                             # ignore errors in response\n",
    "        name.append(places_data['results'][0]['name'])\n",
    "        city.append(city_csv_narrow.iloc[i, 0])\n",
    "        country.append(city_csv_narrow.iloc[i, 1])\n",
    "        lat.append(places_data['results'][0]['geometry']['location']['lat'])\n",
    "        lng.append(places_data['results'][0]['geometry']['location']['lng'])\n",
    "    except IndexError:\n",
    "        print('No Hotel Near Location... Skipping...') \n",
    "        \n",
    "        # in case one of the responses comes back with error \"IndexError\"\n",
    "        # which could be no hotel near location \n",
    "  \n",
    "    count = count + 1\n",
    "    \n",
    "# Print Ending Log Statement:\n",
    "print('Complete')\n"
   ]
  },
  {
   "cell_type": "code",
   "execution_count": 26,
   "metadata": {},
   "outputs": [
    {
     "data": {
      "text/plain": [
       "City          0\n",
       "Country       0\n",
       "Lat           0\n",
       "Lng           0\n",
       "Hotel Name    0\n",
       "dtype: int64"
      ]
     },
     "execution_count": 26,
     "metadata": {},
     "output_type": "execute_result"
    }
   ],
   "source": [
    "# Create a data frame from api call list:\n",
    "hotel_dict={\n",
    "    'City': city,\n",
    "    'Country': country,\n",
    "    'Lat': lat,\n",
    "    'Lng': lng,\n",
    "    'Hotel Name': name\n",
    "}\n",
    "hotel_df = pd.DataFrame(hotel_dict)\n",
    "hotel_df.count()"
   ]
  },
  {
   "cell_type": "markdown",
   "metadata": {},
   "source": [
    "### Hotel Map\n",
    "* Store into variable named `hotel_df`.\n",
    "* Add a \"Hotel Name\" column to the DataFrame.\n",
    "* Set parameters to search for hotels with 5000 meters.\n",
    "* Hit the Google Places API for each city's coordinates.\n",
    "* Store the first Hotel result into the DataFrame.\n",
    "* Plot markers on top of the heatmap."
   ]
  },
  {
   "cell_type": "code",
   "execution_count": 27,
   "metadata": {},
   "outputs": [],
   "source": [
    "# NOTE: Do not change any of the code in this cell\n",
    "\n",
    "# Using the template add the hotel marks to the heatmap\n",
    "info_box_template = \"\"\"\n",
    "<dl>\n",
    "<dt>Name</dt><dd>{Hotel Name}</dd>\n",
    "<dt>City</dt><dd>{City}</dd>\n",
    "<dt>Country</dt><dd>{Country}</dd>\n",
    "</dl>\n",
    "\"\"\"\n",
    "# Store the DataFrame Row\n",
    "# NOTE: be sure to update with your DataFrame name\n",
    "hotel_info = [info_box_template.format(**row) for index, row in hotel_df.iterrows()]\n",
    "locations = hotel_df[[\"Lat\", \"Lng\"]]"
   ]
  },
  {
   "cell_type": "code",
   "execution_count": 28,
   "metadata": {},
   "outputs": [
    {
     "data": {
      "application/vnd.jupyter.widget-view+json": {
       "model_id": "42c482d739a24f498e2e04fbb1e61706",
       "version_major": 2,
       "version_minor": 0
      },
      "text/plain": [
       "Figure(layout=FigureLayout(border='1px solid black', height='600px', margin='0 auto 0 auto', padding='1px', wi…"
      ]
     },
     "metadata": {},
     "output_type": "display_data"
    }
   ],
   "source": [
    "# Add marker layer ontop of heat map\n",
    "\n",
    "\n",
    "# Display figure\n",
    "# Customize the size of the figure:\n",
    "figure_layout={\n",
    "    'width': '955px',\n",
    "    'height': '600px',\n",
    "    'border': '1px solid black',\n",
    "    'padding': '1px',\n",
    "    'margin': '0 auto 0 auto'\n",
    "}\n",
    "fig = gmaps.figure(layout = figure_layout)\n",
    "\n",
    "# Assign the marker layer to a variable:\n",
    "markers = gmaps.marker_layer(locations, info_box_content=hotel_info)\n",
    "# Add the layer to the map:\n",
    "fig.add_layer(markers)\n",
    "\n",
    "\n",
    "fig"
   ]
  },
  {
   "cell_type": "code",
   "execution_count": 29,
   "metadata": {},
   "outputs": [
    {
     "data": {
      "application/vnd.jupyter.widget-view+json": {
       "model_id": "f638b9f6f1d64bfa879e1b0a63e5328b",
       "version_major": 2,
       "version_minor": 0
      },
      "text/plain": [
       "Figure(layout=FigureLayout(height='420px'))"
      ]
     },
     "metadata": {},
     "output_type": "display_data"
    }
   ],
   "source": [
    " #Create a combined map:\n",
    "fig=gmaps.figure()\n",
    "\n",
    "fig.add_layer(heat_layer)\n",
    "fig.add_layer(markers)\n",
    "\n",
    "fig"
   ]
  },
  {
   "cell_type": "code",
   "execution_count": null,
   "metadata": {},
   "outputs": [],
   "source": []
  }
 ],
 "metadata": {
  "kernelspec": {
   "display_name": "Python 3",
   "language": "python",
   "name": "python3"
  },
  "language_info": {
   "codemirror_mode": {
    "name": "ipython",
    "version": 3
   },
   "file_extension": ".py",
   "mimetype": "text/x-python",
   "name": "python",
   "nbconvert_exporter": "python",
   "pygments_lexer": "ipython3",
   "version": "3.8.3"
  },
  "latex_envs": {
   "LaTeX_envs_menu_present": true,
   "autoclose": false,
   "autocomplete": true,
   "bibliofile": "biblio.bib",
   "cite_by": "apalike",
   "current_citInitial": 1,
   "eqLabelWithNumbers": true,
   "eqNumInitial": 1,
   "hotkeys": {
    "equation": "Ctrl-E",
    "itemize": "Ctrl-I"
   },
   "labels_anchors": false,
   "latex_user_defs": false,
   "report_style_numbering": false,
   "user_envs_cfg": false
  }
 },
 "nbformat": 4,
 "nbformat_minor": 4
}
